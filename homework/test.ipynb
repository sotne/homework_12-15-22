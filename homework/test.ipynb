{
 "cells": [
  {
   "cell_type": "code",
   "execution_count": 2,
   "id": "d578f35e",
   "metadata": {},
   "outputs": [],
   "source": [
    "import requests"
   ]
  },
  {
   "cell_type": "code",
   "execution_count": 3,
   "id": "8730e508",
   "metadata": {},
   "outputs": [],
   "source": [
    "class WeatherAPI:\n",
    "    base_url = 'http://api.weatherapi.com/v1'\n",
    "    \n",
    "    def __init__(self, api_key):\n",
    "        self.api_key = api_key\n",
    "        \n",
    "    def _get(self, city, api_method, **params):\n",
    "        request_url = f\"{self.base_url}{api_method}?key={self.api_key}&q={city}\"\n",
    "        if params:\n",
    "            for key, value in params.items():\n",
    "                request_url += f\"&{key}={value}\"\n",
    "        weather_response = requests.get(request_url)\n",
    "        if weather_response.ok:\n",
    "            return weather_response.json()\n",
    "        else:\n",
    "            print('There was an error')\n",
    "        \n",
    "    def get_current_weather(self, city):\n",
    "        weather_data = self._get(city, '/current.json')\n",
    "        city_name = weather_data['location']['name']\n",
    "        region_name = weather_data['location']['region']\n",
    "        current_temp = weather_data['current']['temp_f']\n",
    "        feels_like = weather_data['current']['feelslike_f']\n",
    "        current_condition = weather_data['current']['condition']['text']\n",
    "        city_weather = CityWeather(current_temp, feels_like, current_condition, city_name, region_name)\n",
    "        return city_weather\n",
    "            \n",
    "        \n",
    "class CityWeather:\n",
    "    def __init__(self, current, feels_like, condition, city_name, region_name):\n",
    "        self.current = current\n",
    "        self.feels_like = feels_like\n",
    "        self.condition = condition\n",
    "        self.city = city_name\n",
    "        self.region = region_name\n",
    "        \n",
    "    def __str__(self):\n",
    "        degree_sign = u'\\N{DEGREE SIGN}'\n",
    "        return f\"It is currently {self.condition} and {self.current}{degree_sign}F in {self.city}, {self.region}. \\\n",
    "It feels like {self.feels_like}{degree_sign}F\"\n",
    "        \n",
    "    \n",
    "client = WeatherAPI('1ac9901266fa4ab48f9185441220510')\n",
    "my_city = client.get_current_weather('Chicago')"
   ]
  },
  {
   "cell_type": "code",
   "execution_count": null,
   "id": "060c52a6",
   "metadata": {},
   "outputs": [],
   "source": []
  }
 ],
 "metadata": {
  "kernelspec": {
   "display_name": "Python 3 (ipykernel)",
   "language": "python",
   "name": "python3"
  },
  "language_info": {
   "codemirror_mode": {
    "name": "ipython",
    "version": 3
   },
   "file_extension": ".py",
   "mimetype": "text/x-python",
   "name": "python",
   "nbconvert_exporter": "python",
   "pygments_lexer": "ipython3",
   "version": "3.9.12"
  }
 },
 "nbformat": 4,
 "nbformat_minor": 5
}
