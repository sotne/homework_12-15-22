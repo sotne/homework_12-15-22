{
 "cells": [
  {
   "cell_type": "code",
   "execution_count": 2,
   "id": "867249e7",
   "metadata": {},
   "outputs": [],
   "source": [
    "# \"Return the number (count) of vowels in the given string.\n",
    "\n",
    "# We will consider a, e, i, o, and u as vowels (but not y).\n",
    "\n",
    "# The input string will only consist of lowercase letters and/or spaces.\n",
    "\n",
    "# ex:\n",
    "# get_count('hello_world') => 3\""
   ]
  },
  {
   "cell_type": "code",
   "execution_count": 7,
   "id": "1b6b4712",
   "metadata": {},
   "outputs": [
    {
     "data": {
      "text/plain": [
       "3"
      ]
     },
     "execution_count": 7,
     "metadata": {},
     "output_type": "execute_result"
    }
   ],
   "source": [
    "def get_count(string):\n",
    "    count = 0\n",
    "    for num, letter in enumerate(string.lower()):\n",
    "        if letter in ['a', 'e', 'i', 'o', 'u']:\n",
    "            count+=1\n",
    "    return count\n",
    "        \n",
    "get_count('hello_world')"
   ]
  },
  {
   "cell_type": "code",
   "execution_count": 10,
   "id": "5036ae37",
   "metadata": {},
   "outputs": [
    {
     "data": {
      "text/plain": [
       "3"
      ]
     },
     "execution_count": 10,
     "metadata": {},
     "output_type": "execute_result"
    }
   ],
   "source": [
    "def get_count(string):\n",
    "    count = 0\n",
    "    for letter in string:\n",
    "        if letter in ['a', 'e', 'i', 'o', 'u']:\n",
    "            count+=1\n",
    "    return count\n",
    "        \n",
    "get_count('hello_world')"
   ]
  },
  {
   "cell_type": "code",
   "execution_count": 13,
   "id": "6591b8e9",
   "metadata": {},
   "outputs": [
    {
     "data": {
      "text/plain": [
       "3"
      ]
     },
     "execution_count": 13,
     "metadata": {},
     "output_type": "execute_result"
    }
   ],
   "source": [
    "def get_count(string):\n",
    "    vowels =  ['a', 'e', 'i', 'o', 'u']\n",
    "    count = 0\n",
    "    for letter in string:\n",
    "        if letter in vowels:\n",
    "            count+=1\n",
    "    return count\n",
    "get_count('hello_world')    "
   ]
  },
  {
   "cell_type": "code",
   "execution_count": null,
   "id": "cc019340",
   "metadata": {},
   "outputs": [],
   "source": []
  }
 ],
 "metadata": {
  "kernelspec": {
   "display_name": "Python 3 (ipykernel)",
   "language": "python",
   "name": "python3"
  },
  "language_info": {
   "codemirror_mode": {
    "name": "ipython",
    "version": 3
   },
   "file_extension": ".py",
   "mimetype": "text/x-python",
   "name": "python",
   "nbconvert_exporter": "python",
   "pygments_lexer": "ipython3",
   "version": "3.9.12"
  }
 },
 "nbformat": 4,
 "nbformat_minor": 5
}
